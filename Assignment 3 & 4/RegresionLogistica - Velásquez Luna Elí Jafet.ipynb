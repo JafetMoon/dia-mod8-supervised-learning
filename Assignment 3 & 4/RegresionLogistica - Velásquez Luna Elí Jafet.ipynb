{
  "cells": [
    {
      "cell_type": "markdown",
      "metadata": {
        "id": "Mc6BjVx95-I1"
      },
      "source": [
        "# EJERCICIO"
      ]
    },
    {
      "cell_type": "code",
      "execution_count": 29,
      "metadata": {
        "id": "Wdzy0c5C44mw"
      },
      "outputs": [],
      "source": [
        "from sklearn.datasets import load_breast_cancer\n",
        "from sklearn.linear_model import LogisticRegression\n",
        "from sklearn.model_selection import train_test_split\n",
        "from sklearn.preprocessing import StandardScaler\n",
        "import pandas as pd\n",
        "import numpy as np\n",
        "\n",
        "tabla = load_breast_cancer(as_frame=True)\n",
        "\n",
        "# Separación de etiquetas\n",
        "X = tabla.data\n",
        "y = tabla.target"
      ]
    },
    {
      "cell_type": "code",
      "execution_count": 30,
      "metadata": {
        "id": "wlpLFA4fxTy1"
      },
      "outputs": [],
      "source": [
        "# Estandarizar valores de las variables\n",
        "scaler = StandardScaler()\n",
        "X = scaler.fit_transform(X)"
      ]
    },
    {
      "cell_type": "markdown",
      "metadata": {
        "id": "GjskLs5ew50r"
      },
      "source": [
        "## Selección de 5 características de entrada"
      ]
    },
    {
      "cell_type": "code",
      "execution_count": 31,
      "metadata": {
        "colab": {
          "base_uri": "https://localhost:8080/"
        },
        "id": "v7Rb1fhOxAP4",
        "outputId": "e49ac4e5-3e06-4a6e-8f8d-06ba9e09b40b"
      },
      "outputs": [
        {
          "data": {
            "text/plain": [
              "(569, 30)"
            ]
          },
          "execution_count": 31,
          "metadata": {},
          "output_type": "execute_result"
        }
      ],
      "source": [
        "# Ver cuántas características tiene\n",
        "X.shape"
      ]
    },
    {
      "cell_type": "code",
      "execution_count": 22,
      "metadata": {
        "id": "EMqB5hEFxL2p"
      },
      "outputs": [],
      "source": [
        "# Se seleccionan 5 al azar\n",
        "id_features = np.random.choice(30, 5, replace=False)"
      ]
    },
    {
      "cell_type": "code",
      "execution_count": 52,
      "metadata": {
        "colab": {
          "base_uri": "https://localhost:8080/"
        },
        "id": "SOr46Sv76XMy",
        "outputId": "ed90dfef-7814-4a5e-81ac-12a05466b0e9"
      },
      "outputs": [
        {
          "data": {
            "text/plain": [
              "array([10, 27, 25, 18, 24])"
            ]
          },
          "execution_count": 52,
          "metadata": {},
          "output_type": "execute_result"
        }
      ],
      "source": [
        "id_features"
      ]
    },
    {
      "cell_type": "code",
      "execution_count": 32,
      "metadata": {
        "id": "g0NjFTNCyOrh"
      },
      "outputs": [],
      "source": [
        "# Se filtran los datos\n",
        "X = X[:,id_features]"
      ]
    },
    {
      "cell_type": "markdown",
      "metadata": {
        "id": "Bu18m7_Jyapk"
      },
      "source": [
        "## Modelo"
      ]
    },
    {
      "cell_type": "code",
      "execution_count": 33,
      "metadata": {
        "id": "1JBVoLOX6wfB"
      },
      "outputs": [],
      "source": [
        "# Separación del dataset\n",
        "X_train, X_test, y_train, y_test = train_test_split(X,y,test_size=0.2)"
      ]
    },
    {
      "cell_type": "code",
      "execution_count": 34,
      "metadata": {
        "colab": {
          "base_uri": "https://localhost:8080/",
          "height": 75
        },
        "id": "9WydTXft6Bfs",
        "outputId": "0f6fc071-33d1-46b1-eeb1-d1adfaba4056"
      },
      "outputs": [
        {
          "data": {
            "text/html": [
              "<style>#sk-container-id-2 {color: black;background-color: white;}#sk-container-id-2 pre{padding: 0;}#sk-container-id-2 div.sk-toggleable {background-color: white;}#sk-container-id-2 label.sk-toggleable__label {cursor: pointer;display: block;width: 100%;margin-bottom: 0;padding: 0.3em;box-sizing: border-box;text-align: center;}#sk-container-id-2 label.sk-toggleable__label-arrow:before {content: \"▸\";float: left;margin-right: 0.25em;color: #696969;}#sk-container-id-2 label.sk-toggleable__label-arrow:hover:before {color: black;}#sk-container-id-2 div.sk-estimator:hover label.sk-toggleable__label-arrow:before {color: black;}#sk-container-id-2 div.sk-toggleable__content {max-height: 0;max-width: 0;overflow: hidden;text-align: left;background-color: #f0f8ff;}#sk-container-id-2 div.sk-toggleable__content pre {margin: 0.2em;color: black;border-radius: 0.25em;background-color: #f0f8ff;}#sk-container-id-2 input.sk-toggleable__control:checked~div.sk-toggleable__content {max-height: 200px;max-width: 100%;overflow: auto;}#sk-container-id-2 input.sk-toggleable__control:checked~label.sk-toggleable__label-arrow:before {content: \"▾\";}#sk-container-id-2 div.sk-estimator input.sk-toggleable__control:checked~label.sk-toggleable__label {background-color: #d4ebff;}#sk-container-id-2 div.sk-label input.sk-toggleable__control:checked~label.sk-toggleable__label {background-color: #d4ebff;}#sk-container-id-2 input.sk-hidden--visually {border: 0;clip: rect(1px 1px 1px 1px);clip: rect(1px, 1px, 1px, 1px);height: 1px;margin: -1px;overflow: hidden;padding: 0;position: absolute;width: 1px;}#sk-container-id-2 div.sk-estimator {font-family: monospace;background-color: #f0f8ff;border: 1px dotted black;border-radius: 0.25em;box-sizing: border-box;margin-bottom: 0.5em;}#sk-container-id-2 div.sk-estimator:hover {background-color: #d4ebff;}#sk-container-id-2 div.sk-parallel-item::after {content: \"\";width: 100%;border-bottom: 1px solid gray;flex-grow: 1;}#sk-container-id-2 div.sk-label:hover label.sk-toggleable__label {background-color: #d4ebff;}#sk-container-id-2 div.sk-serial::before {content: \"\";position: absolute;border-left: 1px solid gray;box-sizing: border-box;top: 0;bottom: 0;left: 50%;z-index: 0;}#sk-container-id-2 div.sk-serial {display: flex;flex-direction: column;align-items: center;background-color: white;padding-right: 0.2em;padding-left: 0.2em;position: relative;}#sk-container-id-2 div.sk-item {position: relative;z-index: 1;}#sk-container-id-2 div.sk-parallel {display: flex;align-items: stretch;justify-content: center;background-color: white;position: relative;}#sk-container-id-2 div.sk-item::before, #sk-container-id-2 div.sk-parallel-item::before {content: \"\";position: absolute;border-left: 1px solid gray;box-sizing: border-box;top: 0;bottom: 0;left: 50%;z-index: -1;}#sk-container-id-2 div.sk-parallel-item {display: flex;flex-direction: column;z-index: 1;position: relative;background-color: white;}#sk-container-id-2 div.sk-parallel-item:first-child::after {align-self: flex-end;width: 50%;}#sk-container-id-2 div.sk-parallel-item:last-child::after {align-self: flex-start;width: 50%;}#sk-container-id-2 div.sk-parallel-item:only-child::after {width: 0;}#sk-container-id-2 div.sk-dashed-wrapped {border: 1px dashed gray;margin: 0 0.4em 0.5em 0.4em;box-sizing: border-box;padding-bottom: 0.4em;background-color: white;}#sk-container-id-2 div.sk-label label {font-family: monospace;font-weight: bold;display: inline-block;line-height: 1.2em;}#sk-container-id-2 div.sk-label-container {text-align: center;}#sk-container-id-2 div.sk-container {/* jupyter's `normalize.less` sets `[hidden] { display: none; }` but bootstrap.min.css set `[hidden] { display: none !important; }` so we also need the `!important` here to be able to override the default hidden behavior on the sphinx rendered scikit-learn.org. See: https://github.com/scikit-learn/scikit-learn/issues/21755 */display: inline-block !important;position: relative;}#sk-container-id-2 div.sk-text-repr-fallback {display: none;}</style><div id=\"sk-container-id-2\" class=\"sk-top-container\"><div class=\"sk-text-repr-fallback\"><pre>LogisticRegression()</pre><b>In a Jupyter environment, please rerun this cell to show the HTML representation or trust the notebook. <br />On GitHub, the HTML representation is unable to render, please try loading this page with nbviewer.org.</b></div><div class=\"sk-container\" hidden><div class=\"sk-item\"><div class=\"sk-estimator sk-toggleable\"><input class=\"sk-toggleable__control sk-hidden--visually\" id=\"sk-estimator-id-2\" type=\"checkbox\" checked><label for=\"sk-estimator-id-2\" class=\"sk-toggleable__label sk-toggleable__label-arrow\">LogisticRegression</label><div class=\"sk-toggleable__content\"><pre>LogisticRegression()</pre></div></div></div></div></div>"
            ],
            "text/plain": [
              "LogisticRegression()"
            ]
          },
          "execution_count": 34,
          "metadata": {},
          "output_type": "execute_result"
        }
      ],
      "source": [
        "# Definición del modelo y ajuste\n",
        "modelo = LogisticRegression()\n",
        "modelo.fit(X_train,y_train)"
      ]
    },
    {
      "cell_type": "code",
      "execution_count": 35,
      "metadata": {
        "colab": {
          "base_uri": "https://localhost:8080/"
        },
        "id": "Z8Em5rNn6rMS",
        "outputId": "e3d40b5d-404c-44e5-b5fb-7ef28355eb58"
      },
      "outputs": [
        {
          "data": {
            "text/plain": [
              "array([1, 1, 0, 0, 1, 0, 0, 0, 1, 1, 1, 0, 1, 1, 1, 1, 0, 0, 0, 1, 1, 0,\n",
              "       1, 1, 0, 1, 0, 1, 1, 0, 1, 1, 0, 1, 1, 1, 1, 1, 0, 1, 0, 0, 0, 1,\n",
              "       1, 1, 1, 1, 1, 1, 1, 1, 0, 1, 0, 0, 1, 0, 1, 1, 1, 1, 1, 0, 0, 1,\n",
              "       1, 1, 0, 1, 1, 1, 1, 1, 1, 1, 0, 1, 1, 1, 1, 1, 0, 0, 0, 1, 1, 1,\n",
              "       1, 0, 0, 0, 1, 1, 0, 0, 1, 0, 0, 0, 1, 1, 1, 0, 1, 1, 0, 1, 1, 1,\n",
              "       0, 1, 1, 0])"
            ]
          },
          "execution_count": 35,
          "metadata": {},
          "output_type": "execute_result"
        }
      ],
      "source": [
        "# Predicción de etiquetas\n",
        "y_pred = modelo.predict(X_test)\n",
        "y_pred"
      ]
    },
    {
      "cell_type": "markdown",
      "metadata": {
        "id": "uD7nlWSVynrJ"
      },
      "source": [
        "Estas son las etiquetas predichas para los $0.2\\times 569$ datos de entrenamiento. En el siguiente ejercicio se usarán métricas para determinar qué tan buena fue la clasificación."
      ]
    },
    {
      "cell_type": "markdown",
      "metadata": {
        "id": "h3i8vj5hLaWl"
      },
      "source": [
        "# EJERCICIO 2: Métricas\n",
        "\n",
        "- Calcular\n",
        "- Interpretar\n",
        "\n",
        "CLAVES:\n",
        "\n",
        "1 - Benigno\n",
        "\n",
        "0 - Maligno"
      ]
    },
    {
      "cell_type": "markdown",
      "metadata": {
        "id": "hBIjKsn4Lscm"
      },
      "source": [
        "## Matriz de Confusión"
      ]
    },
    {
      "cell_type": "code",
      "execution_count": 36,
      "metadata": {
        "colab": {
          "base_uri": "https://localhost:8080/"
        },
        "id": "Pw4-1_jl7waD",
        "outputId": "16799280-a182-4910-bea9-f30ee7690510"
      },
      "outputs": [
        {
          "data": {
            "text/plain": [
              "array([[40,  6],\n",
              "       [ 1, 67]])"
            ]
          },
          "execution_count": 36,
          "metadata": {},
          "output_type": "execute_result"
        }
      ],
      "source": [
        "from sklearn.metrics import confusion_matrix\n",
        "\n",
        "# Matriz de Confusión\n",
        "confusion_matrix(y_test,y_pred)\n"
      ]
    },
    {
      "cell_type": "markdown",
      "metadata": {
        "id": "289jxKRa0TQS"
      },
      "source": [
        "La matriz indica que hay 40 verdaderos negativos y 64 verdaderos positivos. Es decir, predijo correctamente 107 de los diagnósticos de cáncer de mama.\n",
        "\n",
        "Mientras que hay considerablemente pocos falsos negativos y falsos positivos, con 1 y 6 respectivamente."
      ]
    },
    {
      "cell_type": "markdown",
      "metadata": {
        "id": "2wfX2mkTLtxd"
      },
      "source": [
        "## Exactitud (Accuracy)"
      ]
    },
    {
      "cell_type": "code",
      "execution_count": null,
      "metadata": {
        "colab": {
          "base_uri": "https://localhost:8080/"
        },
        "id": "KZ_d-sq_Lvg-",
        "outputId": "a89a984d-1b60-46b5-9eb6-09396123f2d9"
      },
      "outputs": [
        {
          "data": {
            "text/plain": [
              "0.9912280701754386"
            ]
          },
          "execution_count": 15,
          "metadata": {},
          "output_type": "execute_result"
        }
      ],
      "source": [
        "from sklearn.metrics import accuracy_score\n",
        "\n",
        "accuracy_score(y_test,y_pred)"
      ]
    },
    {
      "cell_type": "markdown",
      "metadata": {
        "id": "pKNifrzeMQ6U"
      },
      "source": [
        "El modelo predijo correctamente las 2 categorías del dataset (cáncer de mama o no) en un 99.12%. Este es el porcentaje de valores en la diagonal, los que fueron categorizados correctamente)"
      ]
    },
    {
      "cell_type": "markdown",
      "metadata": {
        "id": "aqmdI4ThLxVH"
      },
      "source": [
        "## Precisión (Precision)"
      ]
    },
    {
      "cell_type": "code",
      "execution_count": 45,
      "metadata": {
        "colab": {
          "base_uri": "https://localhost:8080/"
        },
        "id": "4zDuj7xLLzU4",
        "outputId": "b0dada73-df4c-43d6-82ad-8871416639f6"
      },
      "outputs": [
        {
          "data": {
            "text/plain": [
              "0.9178082191780822"
            ]
          },
          "execution_count": 45,
          "metadata": {},
          "output_type": "execute_result"
        }
      ],
      "source": [
        "from sklearn.metrics import precision_score\n",
        "\n",
        "precision_score(y_test,y_pred, pos_label=1)"
      ]
    },
    {
      "cell_type": "markdown",
      "metadata": {
        "id": "Pityoo3BMjUQ"
      },
      "source": [
        "Esta métrica indica que el 91.78% de las ocasiones cuando el modelo predice que el individuo está sano de cancer de mama, son correctas."
      ]
    },
    {
      "cell_type": "markdown",
      "metadata": {
        "id": "YYsCnfUNL1Ml"
      },
      "source": [
        "## Exhaustividad (Recall)"
      ]
    },
    {
      "cell_type": "code",
      "execution_count": 47,
      "metadata": {
        "colab": {
          "base_uri": "https://localhost:8080/"
        },
        "id": "b_pnYMMLL3lv",
        "outputId": "5be7eec9-0590-4762-d64e-0437e9cb2367"
      },
      "outputs": [
        {
          "data": {
            "text/plain": [
              "0.9852941176470589"
            ]
          },
          "execution_count": 47,
          "metadata": {},
          "output_type": "execute_result"
        }
      ],
      "source": [
        "from sklearn.metrics import recall_score\n",
        "\n",
        "recall_score(y_test,y_pred,pos_label=1)"
      ]
    },
    {
      "cell_type": "markdown",
      "metadata": {
        "id": "gzMnOQvyMsQ1"
      },
      "source": [
        "Esta métrica indica que en el 98.53% de los casos, se predijo un cancer benigno cuando realmente era benigno, del total de muestras con resultado benigno."
      ]
    },
    {
      "cell_type": "markdown",
      "metadata": {
        "id": "nZcDTO4OL7kt"
      },
      "source": [
        "## F1-score"
      ]
    },
    {
      "cell_type": "code",
      "execution_count": 51,
      "metadata": {
        "colab": {
          "base_uri": "https://localhost:8080/"
        },
        "id": "Av0klsOGL94C",
        "outputId": "48ee83c8-dfe7-4f75-cada-66e6616e9bf5"
      },
      "outputs": [
        {
          "data": {
            "text/plain": [
              "0.9503546099290779"
            ]
          },
          "execution_count": 51,
          "metadata": {},
          "output_type": "execute_result"
        }
      ],
      "source": [
        "from sklearn.metrics import f1_score\n",
        "f1_score(y_test,y_pred,pos_label=1)"
      ]
    },
    {
      "cell_type": "markdown",
      "metadata": {
        "id": "fqfN6RO65osU"
      },
      "source": [
        "Es una métrica de equilibrio, en este caso para la clase 1 (cáncer benigno). Por lo que podría concluir que el modelo lo predice en un ~95.04%."
      ]
    }
  ],
  "metadata": {
    "colab": {
      "provenance": []
    },
    "kernelspec": {
      "display_name": "Python 3",
      "name": "python3"
    },
    "language_info": {
      "name": "python"
    }
  },
  "nbformat": 4,
  "nbformat_minor": 0
}
