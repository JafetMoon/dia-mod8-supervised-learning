{
  "nbformat": 4,
  "nbformat_minor": 0,
  "metadata": {
    "colab": {
      "provenance": []
    },
    "kernelspec": {
      "name": "python3",
      "display_name": "Python 3"
    },
    "language_info": {
      "name": "python"
    }
  },
  "cells": [
    {
      "cell_type": "markdown",
      "source": [
        "# Ejercicio\n",
        "\n",
        "Repetir el ejercicio pero sin normalizar la entrada y exploren el resultado"
      ],
      "metadata": {
        "id": "Ot28eiBPmhl8"
      }
    },
    {
      "cell_type": "code",
      "source": [
        "from sklearn.datasets import fetch_openml\n",
        "from sklearn.preprocessing import normalize\n",
        "\n",
        "X,y = fetch_openml('mnist_784', as_frame=False, return_X_y=True)\n",
        "\n",
        "# EJERCICIO: quitar la siguiente línea:\n",
        "# X = normalize(X)\n",
        "\n",
        "import matplotlib.pyplot as plt\n",
        "\n",
        "imagenes_mostrar = X.reshape([-1,28,28])[:5]\n",
        "labels_mostrar = y[:5]\n",
        "for i, (img,label) in enumerate(zip(imagenes_mostrar,labels_mostrar)):\n",
        "    plt.subplot(151 + i) #esto es para que las ponga lado a lado, se interpreta cada dígito (1: renglon, 5:columnas, x: el indice en el que se va poniendo)\n",
        "    plt.imshow(img)\n",
        "    plt.xticks([])\n",
        "    plt.yticks([])\n",
        "    plt.title(label)"
      ],
      "metadata": {
        "colab": {
          "base_uri": "https://localhost:8080/",
          "height": 199
        },
        "id": "k7mynIQSQ1QZ",
        "outputId": "d98ec2d8-7156-48b4-a4c9-b92badf87597"
      },
      "execution_count": 1,
      "outputs": [
        {
          "output_type": "stream",
          "name": "stderr",
          "text": [
            "/usr/local/lib/python3.10/dist-packages/sklearn/datasets/_openml.py:968: FutureWarning: The default value of `parser` will change from `'liac-arff'` to `'auto'` in 1.4. You can set `parser='auto'` to silence this warning. Therefore, an `ImportError` will be raised from 1.4 if the dataset is dense and pandas is not installed. Note that the pandas parser may return different data types. See the Notes Section in fetch_openml's API doc for details.\n",
            "  warn(\n"
          ]
        },
        {
          "output_type": "display_data",
          "data": {
            "text/plain": [
              "<Figure size 640x480 with 5 Axes>"
            ],
            "image/png": "[encoded data removed]"
          },
          "metadata": {}
        }
      ]
    },
    {
      "cell_type": "code",
      "source": [
        "import tensorflow as tf"
      ],
      "metadata": {
        "id": "JMhxTSo9ng8u"
      },
      "execution_count": 2,
      "outputs": []
    },
    {
      "cell_type": "markdown",
      "source": [
        "### Preparación de Dataset"
      ],
      "metadata": {
        "id": "A8LP7XCLv4sk"
      }
    },
    {
      "cell_type": "code",
      "source": [
        "# Separación del dataset\n",
        "X_train = X[:60000]\n",
        "X_test = X[60000:]\n",
        "y_train = y[:60000]\n",
        "y_test = y[60000:]"
      ],
      "metadata": {
        "id": "amF0nLvSofNJ"
      },
      "execution_count": 3,
      "outputs": []
    },
    {
      "cell_type": "code",
      "source": [
        "X_train = tf.constant(X_train,dtype=tf.float32)\n",
        "X_test = tf.constant(X_test,dtype=tf.float32)\n",
        "y_train = tf.constant(y_train,dtype=tf.float32)\n",
        "y_test = tf.constant(y_test,dtype=tf.float32)"
      ],
      "metadata": {
        "id": "RV09P7ltoorB"
      },
      "execution_count": 4,
      "outputs": []
    },
    {
      "cell_type": "markdown",
      "source": [
        "### Modelo Multicapa"
      ],
      "metadata": {
        "id": "B63bLAqnwDX5"
      }
    },
    {
      "cell_type": "code",
      "source": [
        "entradas = tf.keras.Input(shape=(784,))\n",
        "\n",
        "capa1 = tf.keras.layers.Dense(100,activation=\"relu\")(entradas)\n",
        "capa2 = tf.keras.layers.Dense(10,activation=\"softmax\")(capa1)"
      ],
      "metadata": {
        "id": "C0yEj527ppN-"
      },
      "execution_count": 5,
      "outputs": []
    },
    {
      "cell_type": "code",
      "source": [
        "modelo = tf.keras.Model(inputs=entradas,outputs=capa2)"
      ],
      "metadata": {
        "id": "TPimoGCRpUaw"
      },
      "execution_count": 6,
      "outputs": []
    },
    {
      "cell_type": "code",
      "source": [
        "modelo.summary()"
      ],
      "metadata": {
        "colab": {
          "base_uri": "https://localhost:8080/"
        },
        "id": "OOZX6kZ-rZ44",
        "outputId": "a4a3062f-3cfe-486c-b1bc-cedcfada3b52"
      },
      "execution_count": 7,
      "outputs": [
        {
          "output_type": "stream",
          "name": "stdout",
          "text": [
            "Model: \"model\"\n",
            "_________________________________________________________________\n",
            " Layer (type)                Output Shape              Param #   \n",
            "=================================================================\n",
            " input_1 (InputLayer)        [(None, 784)]             0         \n",
            "                                                                 \n",
            " dense (Dense)               (None, 100)               78500     \n",
            "                                                                 \n",
            " dense_1 (Dense)             (None, 10)                1010      \n",
            "                                                                 \n",
            "=================================================================\n",
            "Total params: 79510 (310.59 KB)\n",
            "Trainable params: 79510 (310.59 KB)\n",
            "Non-trainable params: 0 (0.00 Byte)\n",
            "_________________________________________________________________\n"
          ]
        }
      ]
    },
    {
      "cell_type": "code",
      "source": [
        "modelo.compile(optimizer=\"SGD\",\n",
        "               loss=\"sparse_categorical_crossentropy\",\n",
        "               metrics=\"accuracy\")"
      ],
      "metadata": {
        "id": "jyKOGtb3ra68"
      },
      "execution_count": 8,
      "outputs": []
    },
    {
      "cell_type": "code",
      "source": [
        "modelo.fit(X_train,y_train,epochs=10)"
      ],
      "metadata": {
        "colab": {
          "base_uri": "https://localhost:8080/"
        },
        "id": "66aTS8CbsFmj",
        "outputId": "433a24d1-f079-4a32-8d23-121211a48757"
      },
      "execution_count": 9,
      "outputs": [
        {
          "output_type": "stream",
          "name": "stdout",
          "text": [
            "Epoch 1/10\n",
            "1875/1875 [==============================] - 6s 3ms/step - loss: 74.9187 - accuracy: 0.1272\n",
            "Epoch 2/10\n",
            "1875/1875 [==============================] - 5s 3ms/step - loss: 2.2998 - accuracy: 0.1131\n",
            "Epoch 3/10\n",
            "1875/1875 [==============================] - 6s 3ms/step - loss: 2.2866 - accuracy: 0.1168\n",
            "Epoch 4/10\n",
            "1875/1875 [==============================] - 5s 3ms/step - loss: 2.1666 - accuracy: 0.1711\n",
            "Epoch 5/10\n",
            "1875/1875 [==============================] - 7s 4ms/step - loss: 2.0951 - accuracy: 0.1902\n",
            "Epoch 6/10\n",
            "1875/1875 [==============================] - 5s 3ms/step - loss: 2.1037 - accuracy: 0.1921\n",
            "Epoch 7/10\n",
            "1875/1875 [==============================] - 6s 3ms/step - loss: 2.2336 - accuracy: 0.1437\n",
            "Epoch 8/10\n",
            "1875/1875 [==============================] - 6s 3ms/step - loss: 2.2367 - accuracy: 0.1515\n",
            "Epoch 9/10\n",
            "1875/1875 [==============================] - 7s 4ms/step - loss: 2.2156 - accuracy: 0.1411\n",
            "Epoch 10/10\n",
            "1875/1875 [==============================] - 8s 4ms/step - loss: 2.1262 - accuracy: 0.1967\n"
          ]
        },
        {
          "output_type": "execute_result",
          "data": {
            "text/plain": [
              "<keras.src.callbacks.History at 0x7a1b9387e200>"
            ]
          },
          "metadata": {},
          "execution_count": 9
        }
      ]
    },
    {
      "cell_type": "code",
      "source": [
        "modelo.evaluate(X_test,y_test)"
      ],
      "metadata": {
        "colab": {
          "base_uri": "https://localhost:8080/"
        },
        "id": "mnX9kiiutnQe",
        "outputId": "3b78c7ec-d8f7-4a21-fc47-9b72ba4db76c"
      },
      "execution_count": 10,
      "outputs": [
        {
          "output_type": "stream",
          "name": "stdout",
          "text": [
            "313/313 [==============================] - 1s 3ms/step - loss: 2.1363 - accuracy: 0.1841\n"
          ]
        },
        {
          "output_type": "execute_result",
          "data": {
            "text/plain": [
              "[2.1363043785095215, 0.18410000205039978]"
            ]
          },
          "metadata": {},
          "execution_count": 10
        }
      ]
    },
    {
      "cell_type": "code",
      "source": [
        "modelo.predict(X_test[0:1])"
      ],
      "metadata": {
        "colab": {
          "base_uri": "https://localhost:8080/"
        },
        "id": "jolUa4oitrzi",
        "outputId": "d443732e-8183-4394-b88a-b73fbe45451b"
      },
      "execution_count": 11,
      "outputs": [
        {
          "output_type": "stream",
          "name": "stdout",
          "text": [
            "1/1 [==============================] - 0s 92ms/step\n"
          ]
        },
        {
          "output_type": "execute_result",
          "data": {
            "text/plain": [
              "array([[0.07080115, 0.06553159, 0.10793217, 0.11239669, 0.10593225,\n",
              "        0.09890535, 0.10778065, 0.1150872 , 0.1065743 , 0.10905872]],\n",
              "      dtype=float32)"
            ]
          },
          "metadata": {},
          "execution_count": 11
        }
      ]
    },
    {
      "cell_type": "code",
      "source": [
        "salida = modelo.predict(X_test[0:1])\n",
        "salida.argmax()"
      ],
      "metadata": {
        "colab": {
          "base_uri": "https://localhost:8080/"
        },
        "id": "4qLZJCU_t_UY",
        "outputId": "b265fd35-b811-4d38-c6ea-2970fc1317d9"
      },
      "execution_count": 12,
      "outputs": [
        {
          "output_type": "stream",
          "name": "stdout",
          "text": [
            "1/1 [==============================] - 0s 21ms/step\n"
          ]
        },
        {
          "output_type": "execute_result",
          "data": {
            "text/plain": [
              "7"
            ]
          },
          "metadata": {},
          "execution_count": 12
        }
      ]
    },
    {
      "cell_type": "code",
      "source": [
        "y_test[0]"
      ],
      "metadata": {
        "colab": {
          "base_uri": "https://localhost:8080/"
        },
        "id": "8g7sFOgJuhVg",
        "outputId": "1c628625-96e0-41a8-a32e-3d74f74434a9"
      },
      "execution_count": 13,
      "outputs": [
        {
          "output_type": "execute_result",
          "data": {
            "text/plain": [
              "<tf.Tensor: shape=(), dtype=float32, numpy=7.0>"
            ]
          },
          "metadata": {},
          "execution_count": 13
        }
      ]
    },
    {
      "cell_type": "markdown",
      "source": [
        "1. Repetir el ejercicio visto en clase pero omitiendo la normalización en la entrada y explorar el resultado.\n",
        "\n",
        "-  **¿Qué ocurre?** La función de pérdida y Accuracy no convergen.\n",
        "-  **¿Por qué?** Si la entrada no está normalizada, el cálculo del gradiente descendiente se puede encontrar con pendientes tan grandes que, al tratar de optimizar los pesos, provoquen que la función de pérdida no converga. Asimismo, puede generar valores tan grandes que son omitidos, produciendo inestabilidad en las neuronas."
      ],
      "metadata": {
        "id": "NrX8Xnm8xGv5"
      }
    },
    {
      "cell_type": "markdown",
      "source": [
        "#  Explorar con diferentes combinaciones de capas y funciones de activación."
      ],
      "metadata": {
        "id": "8X3CCpxAxT6v"
      }
    },
    {
      "cell_type": "markdown",
      "source": [
        "### Sin función de activación en Capa 1"
      ],
      "metadata": {
        "id": "HB4mUp9Fxnyu"
      }
    },
    {
      "cell_type": "code",
      "source": [
        "entradas = tf.keras.Input(shape=(784,))\n",
        "\n",
        "capa1 = tf.keras.layers.Dense(100)(entradas)\n",
        "capa2 = tf.keras.layers.Dense(10,activation=\"softmax\")(capa1)"
      ],
      "metadata": {
        "id": "z2-eUjUexqLe"
      },
      "execution_count": 14,
      "outputs": []
    },
    {
      "cell_type": "code",
      "source": [
        "modelo = tf.keras.Model(inputs=entradas,outputs=capa2)\n",
        "modelo.summary()"
      ],
      "metadata": {
        "colab": {
          "base_uri": "https://localhost:8080/"
        },
        "id": "mYRPjxvOx-Bx",
        "outputId": "dbfa4c5c-da99-4ae1-d2fa-87760a7651d7"
      },
      "execution_count": 15,
      "outputs": [
        {
          "output_type": "stream",
          "name": "stdout",
          "text": [
            "Model: \"model_1\"\n",
            "_________________________________________________________________\n",
            " Layer (type)                Output Shape              Param #   \n",
            "=================================================================\n",
            " input_2 (InputLayer)        [(None, 784)]             0         \n",
            "                                                                 \n",
            " dense_2 (Dense)             (None, 100)               78500     \n",
            "                                                                 \n",
            " dense_3 (Dense)             (None, 10)                1010      \n",
            "                                                                 \n",
            "=================================================================\n",
            "Total params: 79510 (310.59 KB)\n",
            "Trainable params: 79510 (310.59 KB)\n",
            "Non-trainable params: 0 (0.00 Byte)\n",
            "_________________________________________________________________\n"
          ]
        }
      ]
    },
    {
      "cell_type": "code",
      "source": [
        "modelo.compile(optimizer=\"SGD\",\n",
        "               loss=\"sparse_categorical_crossentropy\",\n",
        "               metrics=\"accuracy\")\n",
        "modelo.fit(X_train,y_train,epochs=10)"
      ],
      "metadata": {
        "colab": {
          "base_uri": "https://localhost:8080/"
        },
        "id": "iJjWMbnAyBEr",
        "outputId": "547f3aa4-0650-4d2c-b87c-b2b91b595d71"
      },
      "execution_count": 16,
      "outputs": [
        {
          "output_type": "stream",
          "name": "stdout",
          "text": [
            "Epoch 1/10\n",
            "1875/1875 [==============================] - 7s 3ms/step - loss: nan - accuracy: 0.0987\n",
            "Epoch 2/10\n",
            "1875/1875 [==============================] - 7s 4ms/step - loss: nan - accuracy: 0.0987\n",
            "Epoch 3/10\n",
            "1875/1875 [==============================] - 5s 3ms/step - loss: nan - accuracy: 0.0987\n",
            "Epoch 4/10\n",
            "1875/1875 [==============================] - 7s 4ms/step - loss: nan - accuracy: 0.0987\n",
            "Epoch 5/10\n",
            "1875/1875 [==============================] - 5s 3ms/step - loss: nan - accuracy: 0.0987\n",
            "Epoch 6/10\n",
            "1875/1875 [==============================] - 6s 3ms/step - loss: nan - accuracy: 0.0987\n",
            "Epoch 7/10\n",
            "1875/1875 [==============================] - 6s 3ms/step - loss: nan - accuracy: 0.0987\n",
            "Epoch 8/10\n",
            "1875/1875 [==============================] - 5s 3ms/step - loss: nan - accuracy: 0.0987\n",
            "Epoch 9/10\n",
            "1875/1875 [==============================] - 7s 4ms/step - loss: nan - accuracy: 0.0987\n",
            "Epoch 10/10\n",
            "1875/1875 [==============================] - 6s 3ms/step - loss: nan - accuracy: 0.0987\n"
          ]
        },
        {
          "output_type": "execute_result",
          "data": {
            "text/plain": [
              "<keras.src.callbacks.History at 0x7a1b2ea95b40>"
            ]
          },
          "metadata": {},
          "execution_count": 16
        }
      ]
    },
    {
      "cell_type": "code",
      "source": [
        "modelo.evaluate(X_test,y_test)"
      ],
      "metadata": {
        "colab": {
          "base_uri": "https://localhost:8080/"
        },
        "id": "9T7S9HnSyFDa",
        "outputId": "1690d452-56e7-4cda-e471-d0be3095e96e"
      },
      "execution_count": 17,
      "outputs": [
        {
          "output_type": "stream",
          "name": "stdout",
          "text": [
            "313/313 [==============================] - 1s 3ms/step - loss: nan - accuracy: 0.0980\n"
          ]
        },
        {
          "output_type": "execute_result",
          "data": {
            "text/plain": [
              "[nan, 0.09799999743700027]"
            ]
          },
          "metadata": {},
          "execution_count": 17
        }
      ]
    },
    {
      "cell_type": "markdown",
      "source": [
        "- **¿Qué ocurre?** La función de pérdida arroja valores NaN.\n",
        "- **¿Por qué?** Si la entrada no está normalizada, el cálculo del gradiente descendiente se puede encontrar con pendientes tan grandes que, al tratar de optimizar los pesos, provoquen que la función de pérdida genera valores tan grandes que son omitidos, produciendo inestabilidad en las neuronas."
      ],
      "metadata": {
        "id": "-9x9uv30yg6G"
      }
    },
    {
      "cell_type": "markdown",
      "source": [
        "- Volver a preparar datos con X normalizado"
      ],
      "metadata": {
        "id": "Ez8JJI_X0u4H"
      }
    },
    {
      "cell_type": "code",
      "source": [
        "X = normalize(X)"
      ],
      "metadata": {
        "id": "DO2rNh-20qLc"
      },
      "execution_count": 18,
      "outputs": []
    },
    {
      "cell_type": "code",
      "source": [
        "# Separación del dataset\n",
        "X_train = X[:60000]\n",
        "X_test = X[60000:]\n",
        "y_train = y[:60000]\n",
        "y_test = y[60000:]"
      ],
      "metadata": {
        "id": "UZ_NF4Wu0tqr"
      },
      "execution_count": 19,
      "outputs": []
    },
    {
      "cell_type": "code",
      "source": [
        "X_train = tf.constant(X_train,dtype=tf.float32)\n",
        "X_test = tf.constant(X_test,dtype=tf.float32)\n",
        "y_train = tf.constant(y_train,dtype=tf.float32)\n",
        "y_test = tf.constant(y_test,dtype=tf.float32)"
      ],
      "metadata": {
        "id": "uAgFaX0nyX29"
      },
      "execution_count": 20,
      "outputs": []
    },
    {
      "cell_type": "code",
      "source": [
        "entradas = tf.keras.Input(shape=(784,))\n",
        "\n",
        "capa1 = tf.keras.layers.Dense(100)(entradas)\n",
        "capa2 = tf.keras.layers.Dense(10,activation=\"softmax\")(capa1)"
      ],
      "metadata": {
        "id": "CSAf9pax0zGF"
      },
      "execution_count": 21,
      "outputs": []
    },
    {
      "cell_type": "code",
      "source": [
        "modelo = tf.keras.Model(inputs=entradas,outputs=capa2)\n",
        "modelo.summary()"
      ],
      "metadata": {
        "colab": {
          "base_uri": "https://localhost:8080/"
        },
        "id": "c8pPbPaN0yVr",
        "outputId": "8348e2aa-906c-4dd2-b3dc-a9e1231ed15a"
      },
      "execution_count": 22,
      "outputs": [
        {
          "output_type": "stream",
          "name": "stdout",
          "text": [
            "Model: \"model_2\"\n",
            "_________________________________________________________________\n",
            " Layer (type)                Output Shape              Param #   \n",
            "=================================================================\n",
            " input_3 (InputLayer)        [(None, 784)]             0         \n",
            "                                                                 \n",
            " dense_4 (Dense)             (None, 100)               78500     \n",
            "                                                                 \n",
            " dense_5 (Dense)             (None, 10)                1010      \n",
            "                                                                 \n",
            "=================================================================\n",
            "Total params: 79510 (310.59 KB)\n",
            "Trainable params: 79510 (310.59 KB)\n",
            "Non-trainable params: 0 (0.00 Byte)\n",
            "_________________________________________________________________\n"
          ]
        }
      ]
    },
    {
      "cell_type": "code",
      "source": [
        "modelo.compile(optimizer=\"SGD\",\n",
        "               loss=\"sparse_categorical_crossentropy\",\n",
        "               metrics=\"accuracy\")\n",
        "modelo.fit(X_train,y_train,epochs=10)"
      ],
      "metadata": {
        "colab": {
          "base_uri": "https://localhost:8080/"
        },
        "id": "ZTG6eYU10wkn",
        "outputId": "62379bc8-40f4-4b76-923a-37a3f9343b98"
      },
      "execution_count": 23,
      "outputs": [
        {
          "output_type": "stream",
          "name": "stdout",
          "text": [
            "Epoch 1/10\n",
            "1875/1875 [==============================] - 8s 4ms/step - loss: 2.0386 - accuracy: 0.5834\n",
            "Epoch 2/10\n",
            "1875/1875 [==============================] - 6s 3ms/step - loss: 1.3931 - accuracy: 0.7620\n",
            "Epoch 3/10\n",
            "1875/1875 [==============================] - 7s 4ms/step - loss: 0.9297 - accuracy: 0.8160\n",
            "Epoch 4/10\n",
            "1875/1875 [==============================] - 6s 3ms/step - loss: 0.7096 - accuracy: 0.8407\n",
            "Epoch 5/10\n",
            "1875/1875 [==============================] - 6s 3ms/step - loss: 0.5964 - accuracy: 0.8560\n",
            "Epoch 6/10\n",
            "1875/1875 [==============================] - 6s 3ms/step - loss: 0.5285 - accuracy: 0.8673\n",
            "Epoch 7/10\n",
            "1875/1875 [==============================] - 7s 4ms/step - loss: 0.4837 - accuracy: 0.8750\n",
            "Epoch 8/10\n",
            "1875/1875 [==============================] - 8s 4ms/step - loss: 0.4518 - accuracy: 0.8806\n",
            "Epoch 9/10\n",
            "1875/1875 [==============================] - 7s 4ms/step - loss: 0.4282 - accuracy: 0.8845\n",
            "Epoch 10/10\n",
            "1875/1875 [==============================] - 6s 3ms/step - loss: 0.4099 - accuracy: 0.8883\n"
          ]
        },
        {
          "output_type": "execute_result",
          "data": {
            "text/plain": [
              "<keras.src.callbacks.History at 0x7a1b2f61d2a0>"
            ]
          },
          "metadata": {},
          "execution_count": 23
        }
      ]
    },
    {
      "cell_type": "markdown",
      "source": [
        "- **¿Qué ocurre?** La función de pérdida y el accuracy convergen cais tan rápido como si no hubiera función de activación \"relu\" en la capa1."
      ],
      "metadata": {
        "id": "gUZj0wex1QDN"
      }
    },
    {
      "cell_type": "markdown",
      "source": [
        "### Agregando función de activación antes del Softmax"
      ],
      "metadata": {
        "id": "2fL6wxpe2a-H"
      }
    },
    {
      "cell_type": "code",
      "source": [
        "entradas = tf.keras.Input(shape=(784,))\n",
        "\n",
        "capa1 = tf.keras.layers.Dense(100, activation=\"relu\")(entradas)\n",
        "# Aplicar ReLU explícitamente antes de Softmax\n",
        "capa_intermedia = tf.keras.layers.Dense(10)(capa1)\n",
        "capa_relu = tf.keras.activations.relu(capa_intermedia)\n",
        "capa2 = tf.keras.layers.Activation(\"softmax\")(capa_relu)"
      ],
      "metadata": {
        "id": "QuDNTA-f1biY"
      },
      "execution_count": 27,
      "outputs": []
    },
    {
      "cell_type": "code",
      "source": [
        "modelo = tf.keras.Model(inputs=entradas,outputs=capa2)\n",
        "modelo.summary()"
      ],
      "metadata": {
        "colab": {
          "base_uri": "https://localhost:8080/"
        },
        "id": "LcSVePjx1jZF",
        "outputId": "b22d7fcd-0f23-4147-a852-fbb7544fa710"
      },
      "execution_count": 28,
      "outputs": [
        {
          "output_type": "stream",
          "name": "stdout",
          "text": [
            "Model: \"model_4\"\n",
            "_________________________________________________________________\n",
            " Layer (type)                Output Shape              Param #   \n",
            "=================================================================\n",
            " input_5 (InputLayer)        [(None, 784)]             0         \n",
            "                                                                 \n",
            " dense_8 (Dense)             (None, 100)               78500     \n",
            "                                                                 \n",
            " dense_9 (Dense)             (None, 10)                1010      \n",
            "                                                                 \n",
            " tf.nn.relu (TFOpLambda)     (None, 10)                0         \n",
            "                                                                 \n",
            " activation (Activation)     (None, 10)                0         \n",
            "                                                                 \n",
            "=================================================================\n",
            "Total params: 79510 (310.59 KB)\n",
            "Trainable params: 79510 (310.59 KB)\n",
            "Non-trainable params: 0 (0.00 Byte)\n",
            "_________________________________________________________________\n"
          ]
        }
      ]
    },
    {
      "cell_type": "code",
      "source": [
        "modelo.compile(optimizer=\"SGD\",\n",
        "               loss=\"sparse_categorical_crossentropy\",\n",
        "               metrics=\"accuracy\")\n",
        "modelo.fit(X_train,y_train,epochs=10)"
      ],
      "metadata": {
        "colab": {
          "base_uri": "https://localhost:8080/"
        },
        "id": "8n9Z3PJF00dw",
        "outputId": "2a5149f7-996a-4122-994a-602175bab60b"
      },
      "execution_count": 29,
      "outputs": [
        {
          "output_type": "stream",
          "name": "stdout",
          "text": [
            "Epoch 1/10\n",
            "1875/1875 [==============================] - 6s 3ms/step - loss: 2.1330 - accuracy: 0.4935\n",
            "Epoch 2/10\n",
            "1875/1875 [==============================] - 6s 3ms/step - loss: 1.6122 - accuracy: 0.6911\n",
            "Epoch 3/10\n",
            "1875/1875 [==============================] - 6s 3ms/step - loss: 1.0891 - accuracy: 0.7875\n",
            "Epoch 4/10\n",
            "1875/1875 [==============================] - 5s 3ms/step - loss: 0.7999 - accuracy: 0.8272\n",
            "Epoch 5/10\n",
            "1875/1875 [==============================] - 7s 4ms/step - loss: 0.6517 - accuracy: 0.8477\n",
            "Epoch 6/10\n",
            "1875/1875 [==============================] - 5s 3ms/step - loss: 0.5654 - accuracy: 0.8606\n",
            "Epoch 7/10\n",
            "1875/1875 [==============================] - 7s 4ms/step - loss: 0.5099 - accuracy: 0.8704\n",
            "Epoch 8/10\n",
            "1875/1875 [==============================] - 6s 3ms/step - loss: 0.4712 - accuracy: 0.8775\n",
            "Epoch 9/10\n",
            "1875/1875 [==============================] - 6s 3ms/step - loss: 0.4432 - accuracy: 0.8823\n",
            "Epoch 10/10\n",
            "1875/1875 [==============================] - 6s 3ms/step - loss: 0.4218 - accuracy: 0.8862\n"
          ]
        },
        {
          "output_type": "execute_result",
          "data": {
            "text/plain": [
              "<keras.src.callbacks.History at 0x7a1b2ea8fdf0>"
            ]
          },
          "metadata": {},
          "execution_count": 29
        }
      ]
    },
    {
      "cell_type": "markdown",
      "source": [
        "- **¿Qué ocurre?** Parece no haber cambios significativos."
      ],
      "metadata": {
        "id": "mwXRVdcW2-eJ"
      }
    },
    {
      "cell_type": "markdown",
      "source": [
        "### Agregando capas y funciones de activación."
      ],
      "metadata": {
        "id": "MglS6qDT3id5"
      }
    },
    {
      "cell_type": "code",
      "source": [
        "entradas = tf.keras.Input(shape=(784,))\n",
        "\n",
        "capa1 = tf.keras.layers.Dense(100,activation='sigmoid')(entradas)\n",
        "capa2 = tf.keras.layers.Dense(50,activation='relu')(capa1)\n",
        "capa3 = tf.keras.layers.Dense(50,activation='tanh')(capa2)\n",
        "capa2 = tf.keras.layers.Dense(10,activation=\"softmax\")(capa3)"
      ],
      "metadata": {
        "id": "J8yErVOC3mxM"
      },
      "execution_count": 32,
      "outputs": []
    },
    {
      "cell_type": "code",
      "source": [
        "modelo = tf.keras.Model(inputs=entradas,outputs=capa2)\n",
        "modelo.summary()"
      ],
      "metadata": {
        "colab": {
          "base_uri": "https://localhost:8080/"
        },
        "id": "P4rd2faP3qBr",
        "outputId": "e941f90c-3e33-4697-9f55-f2c5107360e4"
      },
      "execution_count": 33,
      "outputs": [
        {
          "output_type": "stream",
          "name": "stdout",
          "text": [
            "Model: \"model_6\"\n",
            "_________________________________________________________________\n",
            " Layer (type)                Output Shape              Param #   \n",
            "=================================================================\n",
            " input_7 (InputLayer)        [(None, 784)]             0         \n",
            "                                                                 \n",
            " dense_14 (Dense)            (None, 100)               78500     \n",
            "                                                                 \n",
            " dense_15 (Dense)            (None, 50)                5050      \n",
            "                                                                 \n",
            " dense_16 (Dense)            (None, 50)                2550      \n",
            "                                                                 \n",
            " dense_17 (Dense)            (None, 10)                510       \n",
            "                                                                 \n",
            "=================================================================\n",
            "Total params: 86610 (338.32 KB)\n",
            "Trainable params: 86610 (338.32 KB)\n",
            "Non-trainable params: 0 (0.00 Byte)\n",
            "_________________________________________________________________\n"
          ]
        }
      ]
    },
    {
      "cell_type": "code",
      "source": [
        "modelo.compile(optimizer=\"SGD\",\n",
        "               loss=\"sparse_categorical_crossentropy\",\n",
        "               metrics=\"accuracy\")\n",
        "modelo.fit(X_train,y_train,epochs=10)"
      ],
      "metadata": {
        "colab": {
          "base_uri": "https://localhost:8080/"
        },
        "id": "1ZgZr6qQ1k9u",
        "outputId": "89f83506-2924-4468-de07-cf15c9d618aa"
      },
      "execution_count": 34,
      "outputs": [
        {
          "output_type": "stream",
          "name": "stdout",
          "text": [
            "Epoch 1/10\n",
            "1875/1875 [==============================] - 7s 3ms/step - loss: 2.2944 - accuracy: 0.1313\n",
            "Epoch 2/10\n",
            "1875/1875 [==============================] - 7s 4ms/step - loss: 2.2304 - accuracy: 0.2215\n",
            "Epoch 3/10\n",
            "1875/1875 [==============================] - 7s 4ms/step - loss: 1.8938 - accuracy: 0.3679\n",
            "Epoch 4/10\n",
            "1875/1875 [==============================] - 7s 4ms/step - loss: 1.5023 - accuracy: 0.5190\n",
            "Epoch 5/10\n",
            "1875/1875 [==============================] - 8s 4ms/step - loss: 1.0316 - accuracy: 0.6705\n",
            "Epoch 6/10\n",
            "1875/1875 [==============================] - 7s 4ms/step - loss: 0.7893 - accuracy: 0.7437\n",
            "Epoch 7/10\n",
            "1875/1875 [==============================] - 11s 6ms/step - loss: 0.6859 - accuracy: 0.7824\n",
            "Epoch 8/10\n",
            "1875/1875 [==============================] - 6s 3ms/step - loss: 0.6162 - accuracy: 0.8067\n",
            "Epoch 9/10\n",
            "1875/1875 [==============================] - 9s 5ms/step - loss: 0.5699 - accuracy: 0.8213\n",
            "Epoch 10/10\n",
            "1875/1875 [==============================] - 6s 3ms/step - loss: 0.5397 - accuracy: 0.8333\n"
          ]
        },
        {
          "output_type": "execute_result",
          "data": {
            "text/plain": [
              "<keras.src.callbacks.History at 0x7a1b2ea8c2b0>"
            ]
          },
          "metadata": {},
          "execution_count": 34
        }
      ]
    },
    {
      "cell_type": "markdown",
      "source": [
        "- **¿Qué ocurre?** Tarda más en converger y comienza desde un accuracy muy bajo, con respecto al modelo visto en clase con sólo 2 capas (activación relu y softmax).\n",
        "\n",
        "- **¿Por qué?** Es probable que añadir las capas intermedias con 50 neuronas y funciones de activación como la sigmoide y tanh provocaran que, al realizarse operaciones adicionales, se introduzca ruido o desorden en el resultado y, por tanto, pérdida de información."
      ],
      "metadata": {
        "id": "wbAZsK9L4cmz"
      }
    }
  ]
}